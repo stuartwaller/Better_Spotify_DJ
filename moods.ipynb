{
 "cells": [
  {
   "cell_type": "code",
   "execution_count": 1,
   "metadata": {},
   "outputs": [
    {
     "name": "stdout",
     "output_type": "stream",
     "text": [
      "100\n",
      "                    song_name   mood  danceability  energy  key  loudness  \\\n",
      "0                Shape of You  Happy         0.825   0.652    1    -3.183   \n",
      "1           Despacito (Remix)  Happy         0.653   0.816    2    -4.353   \n",
      "2          That's What I Like  Happy         0.853   0.560    1    -4.961   \n",
      "3    Something Just Like This  Happy         0.617   0.635   11    -6.769   \n",
      "4                      Closer  Happy         0.711   0.753    4    -6.461   \n",
      "..                        ...    ...           ...     ...  ...       ...   \n",
      "147                    Malibu   Calm         0.831   0.719   10    -6.836   \n",
      "148                      Down   Calm         0.962   0.619   10    -5.562   \n",
      "149          Treat You Better   Calm         0.444   0.819   10    -4.078   \n",
      "150                  Do Re Mi   Calm         0.745   0.593    8    -6.350   \n",
      "151               The Fighter   Calm         0.681   0.845   11    -5.147   \n",
      "\n",
      "     mode  speechiness  acousticness  instrumentalness  liveness  valence  \\\n",
      "0       0       0.0802       0.58100          0.000000    0.0931    0.931   \n",
      "1       1       0.1670       0.22800          0.000000    0.0967    0.816   \n",
      "2       1       0.0406       0.01300          0.000000    0.0944    0.860   \n",
      "3       0       0.0317       0.04980          0.000014    0.1640    0.446   \n",
      "4       0       0.0766       0.02800          0.000030    0.1520    0.588   \n",
      "..    ...          ...           ...               ...       ...      ...   \n",
      "147     1       0.2350       0.51400          0.000000    0.0675    0.859   \n",
      "148     0       0.4050       0.03540          0.000000    0.0830    0.154   \n",
      "149     0       0.3410       0.10600          0.000000    0.1070    0.747   \n",
      "150     1       0.0524       0.00522          0.000005    0.1230    0.170   \n",
      "151     0       0.0525       0.03040          0.000000    0.1970    0.761   \n",
      "\n",
      "       tempo            type                      id  \\\n",
      "0     95.977  audio_features  7qiZfU4dY1lWllzX7mPBI3   \n",
      "1    178.085  audio_features  6rPO02ozF3bM7NnOV4h6s2   \n",
      "2    134.066  audio_features  0KKkJNfGyhkQ5aFogxQAPU   \n",
      "3    103.019  audio_features  6RUKPb4LETWmmr3iAEQktW   \n",
      "4    126.051  audio_features  2XbfY2O2v3xwedUJ0J2kkr   \n",
      "..       ...             ...                     ...   \n",
      "147  155.038  audio_features  3v1zVVdzNVNt7vmI9VG2gq   \n",
      "148  127.958  audio_features  5m0yZ33oOy0yYBtdTXuxQe   \n",
      "149   82.695  audio_features  3QGsuHI8jO1Rx4JWLUh9jd   \n",
      "150  111.001  audio_features  6Se3x9ANMLv0dCDsjGmEjh   \n",
      "151  132.023  audio_features  5OUSPcqhYTOzpbXzoEvKim   \n",
      "\n",
      "                                      uri  \\\n",
      "0    spotify:track:7qiZfU4dY1lWllzX7mPBI3   \n",
      "1    spotify:track:6rPO02ozF3bM7NnOV4h6s2   \n",
      "2    spotify:track:0KKkJNfGyhkQ5aFogxQAPU   \n",
      "3    spotify:track:6RUKPb4LETWmmr3iAEQktW   \n",
      "4    spotify:track:2XbfY2O2v3xwedUJ0J2kkr   \n",
      "..                                    ...   \n",
      "147  spotify:track:3v1zVVdzNVNt7vmI9VG2gq   \n",
      "148  spotify:track:5m0yZ33oOy0yYBtdTXuxQe   \n",
      "149  spotify:track:3QGsuHI8jO1Rx4JWLUh9jd   \n",
      "150  spotify:track:6Se3x9ANMLv0dCDsjGmEjh   \n",
      "151  spotify:track:5OUSPcqhYTOzpbXzoEvKim   \n",
      "\n",
      "                                            track_href  \\\n",
      "0    https://api.spotify.com/v1/tracks/7qiZfU4dY1lW...   \n",
      "1    https://api.spotify.com/v1/tracks/6rPO02ozF3bM...   \n",
      "2    https://api.spotify.com/v1/tracks/0KKkJNfGyhkQ...   \n",
      "3    https://api.spotify.com/v1/tracks/6RUKPb4LETWm...   \n",
      "4    https://api.spotify.com/v1/tracks/2XbfY2O2v3xw...   \n",
      "..                                                 ...   \n",
      "147  https://api.spotify.com/v1/tracks/3v1zVVdzNVNt...   \n",
      "148  https://api.spotify.com/v1/tracks/5m0yZ33oOy0y...   \n",
      "149  https://api.spotify.com/v1/tracks/3QGsuHI8jO1R...   \n",
      "150  https://api.spotify.com/v1/tracks/6Se3x9ANMLv0...   \n",
      "151  https://api.spotify.com/v1/tracks/5OUSPcqhYTOz...   \n",
      "\n",
      "                                          analysis_url  duration_ms  \\\n",
      "0    https://api.spotify.com/v1/audio-analysis/7qiZ...       233713   \n",
      "1    https://api.spotify.com/v1/audio-analysis/6rPO...       228827   \n",
      "2    https://api.spotify.com/v1/audio-analysis/0KKk...       206693   \n",
      "3    https://api.spotify.com/v1/audio-analysis/6RUK...       247160   \n",
      "4    https://api.spotify.com/v1/audio-analysis/2Xbf...       234360   \n",
      "..                                                 ...          ...   \n",
      "147  https://api.spotify.com/v1/audio-analysis/3v1z...       248652   \n",
      "148  https://api.spotify.com/v1/audio-analysis/5m0y...       144652   \n",
      "149  https://api.spotify.com/v1/audio-analysis/3QGs...       187973   \n",
      "150  https://api.spotify.com/v1/audio-analysis/6Se3...       212027   \n",
      "151  https://api.spotify.com/v1/audio-analysis/5OUS...       184040   \n",
      "\n",
      "     time_signature  \n",
      "0                 4  \n",
      "1                 4  \n",
      "2                 4  \n",
      "3                 4  \n",
      "4                 4  \n",
      "..              ...  \n",
      "147               4  \n",
      "148               4  \n",
      "149               4  \n",
      "150               3  \n",
      "151               4  \n",
      "\n",
      "[152 rows x 20 columns]\n"
     ]
    }
   ],
   "source": [
    "import pandas as pd\n",
    "from recs_dev import df"
   ]
  },
  {
   "cell_type": "markdown",
   "metadata": {},
   "source": [
    "### Pandas Dataframe Agent\n",
    "\n",
    "https://python.langchain.com/docs/integrations/toolkits/pandas"
   ]
  },
  {
   "cell_type": "code",
   "execution_count": 2,
   "metadata": {},
   "outputs": [
    {
     "name": "stdout",
     "output_type": "stream",
     "text": [
      "(152, 20)\n"
     ]
    },
    {
     "data": {
      "text/html": [
       "<div>\n",
       "<style scoped>\n",
       "    .dataframe tbody tr th:only-of-type {\n",
       "        vertical-align: middle;\n",
       "    }\n",
       "\n",
       "    .dataframe tbody tr th {\n",
       "        vertical-align: top;\n",
       "    }\n",
       "\n",
       "    .dataframe thead th {\n",
       "        text-align: right;\n",
       "    }\n",
       "</style>\n",
       "<table border=\"1\" class=\"dataframe\">\n",
       "  <thead>\n",
       "    <tr style=\"text-align: right;\">\n",
       "      <th></th>\n",
       "      <th>song_name</th>\n",
       "      <th>mood</th>\n",
       "      <th>danceability</th>\n",
       "      <th>energy</th>\n",
       "      <th>key</th>\n",
       "      <th>loudness</th>\n",
       "      <th>mode</th>\n",
       "      <th>speechiness</th>\n",
       "      <th>acousticness</th>\n",
       "      <th>instrumentalness</th>\n",
       "      <th>liveness</th>\n",
       "      <th>valence</th>\n",
       "      <th>tempo</th>\n",
       "      <th>type</th>\n",
       "      <th>id</th>\n",
       "      <th>uri</th>\n",
       "      <th>track_href</th>\n",
       "      <th>analysis_url</th>\n",
       "      <th>duration_ms</th>\n",
       "      <th>time_signature</th>\n",
       "    </tr>\n",
       "  </thead>\n",
       "  <tbody>\n",
       "    <tr>\n",
       "      <th>0</th>\n",
       "      <td>Shape of You</td>\n",
       "      <td>Happy</td>\n",
       "      <td>0.825</td>\n",
       "      <td>0.652</td>\n",
       "      <td>1</td>\n",
       "      <td>-3.183</td>\n",
       "      <td>0</td>\n",
       "      <td>0.0802</td>\n",
       "      <td>0.5810</td>\n",
       "      <td>0.000000</td>\n",
       "      <td>0.0931</td>\n",
       "      <td>0.931</td>\n",
       "      <td>95.977</td>\n",
       "      <td>audio_features</td>\n",
       "      <td>7qiZfU4dY1lWllzX7mPBI3</td>\n",
       "      <td>spotify:track:7qiZfU4dY1lWllzX7mPBI3</td>\n",
       "      <td>https://api.spotify.com/v1/tracks/7qiZfU4dY1lW...</td>\n",
       "      <td>https://api.spotify.com/v1/audio-analysis/7qiZ...</td>\n",
       "      <td>233713</td>\n",
       "      <td>4</td>\n",
       "    </tr>\n",
       "    <tr>\n",
       "      <th>1</th>\n",
       "      <td>Despacito (Remix)</td>\n",
       "      <td>Happy</td>\n",
       "      <td>0.653</td>\n",
       "      <td>0.816</td>\n",
       "      <td>2</td>\n",
       "      <td>-4.353</td>\n",
       "      <td>1</td>\n",
       "      <td>0.1670</td>\n",
       "      <td>0.2280</td>\n",
       "      <td>0.000000</td>\n",
       "      <td>0.0967</td>\n",
       "      <td>0.816</td>\n",
       "      <td>178.085</td>\n",
       "      <td>audio_features</td>\n",
       "      <td>6rPO02ozF3bM7NnOV4h6s2</td>\n",
       "      <td>spotify:track:6rPO02ozF3bM7NnOV4h6s2</td>\n",
       "      <td>https://api.spotify.com/v1/tracks/6rPO02ozF3bM...</td>\n",
       "      <td>https://api.spotify.com/v1/audio-analysis/6rPO...</td>\n",
       "      <td>228827</td>\n",
       "      <td>4</td>\n",
       "    </tr>\n",
       "    <tr>\n",
       "      <th>2</th>\n",
       "      <td>That's What I Like</td>\n",
       "      <td>Happy</td>\n",
       "      <td>0.853</td>\n",
       "      <td>0.560</td>\n",
       "      <td>1</td>\n",
       "      <td>-4.961</td>\n",
       "      <td>1</td>\n",
       "      <td>0.0406</td>\n",
       "      <td>0.0130</td>\n",
       "      <td>0.000000</td>\n",
       "      <td>0.0944</td>\n",
       "      <td>0.860</td>\n",
       "      <td>134.066</td>\n",
       "      <td>audio_features</td>\n",
       "      <td>0KKkJNfGyhkQ5aFogxQAPU</td>\n",
       "      <td>spotify:track:0KKkJNfGyhkQ5aFogxQAPU</td>\n",
       "      <td>https://api.spotify.com/v1/tracks/0KKkJNfGyhkQ...</td>\n",
       "      <td>https://api.spotify.com/v1/audio-analysis/0KKk...</td>\n",
       "      <td>206693</td>\n",
       "      <td>4</td>\n",
       "    </tr>\n",
       "    <tr>\n",
       "      <th>3</th>\n",
       "      <td>Something Just Like This</td>\n",
       "      <td>Happy</td>\n",
       "      <td>0.617</td>\n",
       "      <td>0.635</td>\n",
       "      <td>11</td>\n",
       "      <td>-6.769</td>\n",
       "      <td>0</td>\n",
       "      <td>0.0317</td>\n",
       "      <td>0.0498</td>\n",
       "      <td>0.000014</td>\n",
       "      <td>0.1640</td>\n",
       "      <td>0.446</td>\n",
       "      <td>103.019</td>\n",
       "      <td>audio_features</td>\n",
       "      <td>6RUKPb4LETWmmr3iAEQktW</td>\n",
       "      <td>spotify:track:6RUKPb4LETWmmr3iAEQktW</td>\n",
       "      <td>https://api.spotify.com/v1/tracks/6RUKPb4LETWm...</td>\n",
       "      <td>https://api.spotify.com/v1/audio-analysis/6RUK...</td>\n",
       "      <td>247160</td>\n",
       "      <td>4</td>\n",
       "    </tr>\n",
       "    <tr>\n",
       "      <th>4</th>\n",
       "      <td>Closer</td>\n",
       "      <td>Happy</td>\n",
       "      <td>0.711</td>\n",
       "      <td>0.753</td>\n",
       "      <td>4</td>\n",
       "      <td>-6.461</td>\n",
       "      <td>0</td>\n",
       "      <td>0.0766</td>\n",
       "      <td>0.0280</td>\n",
       "      <td>0.000030</td>\n",
       "      <td>0.1520</td>\n",
       "      <td>0.588</td>\n",
       "      <td>126.051</td>\n",
       "      <td>audio_features</td>\n",
       "      <td>2XbfY2O2v3xwedUJ0J2kkr</td>\n",
       "      <td>spotify:track:2XbfY2O2v3xwedUJ0J2kkr</td>\n",
       "      <td>https://api.spotify.com/v1/tracks/2XbfY2O2v3xw...</td>\n",
       "      <td>https://api.spotify.com/v1/audio-analysis/2Xbf...</td>\n",
       "      <td>234360</td>\n",
       "      <td>4</td>\n",
       "    </tr>\n",
       "  </tbody>\n",
       "</table>\n",
       "</div>"
      ],
      "text/plain": [
       "                  song_name   mood  danceability  energy  key  loudness  mode  \\\n",
       "0              Shape of You  Happy         0.825   0.652    1    -3.183     0   \n",
       "1         Despacito (Remix)  Happy         0.653   0.816    2    -4.353     1   \n",
       "2        That's What I Like  Happy         0.853   0.560    1    -4.961     1   \n",
       "3  Something Just Like This  Happy         0.617   0.635   11    -6.769     0   \n",
       "4                    Closer  Happy         0.711   0.753    4    -6.461     0   \n",
       "\n",
       "   speechiness  acousticness  instrumentalness  liveness  valence    tempo  \\\n",
       "0       0.0802        0.5810          0.000000    0.0931    0.931   95.977   \n",
       "1       0.1670        0.2280          0.000000    0.0967    0.816  178.085   \n",
       "2       0.0406        0.0130          0.000000    0.0944    0.860  134.066   \n",
       "3       0.0317        0.0498          0.000014    0.1640    0.446  103.019   \n",
       "4       0.0766        0.0280          0.000030    0.1520    0.588  126.051   \n",
       "\n",
       "             type                      id  \\\n",
       "0  audio_features  7qiZfU4dY1lWllzX7mPBI3   \n",
       "1  audio_features  6rPO02ozF3bM7NnOV4h6s2   \n",
       "2  audio_features  0KKkJNfGyhkQ5aFogxQAPU   \n",
       "3  audio_features  6RUKPb4LETWmmr3iAEQktW   \n",
       "4  audio_features  2XbfY2O2v3xwedUJ0J2kkr   \n",
       "\n",
       "                                    uri  \\\n",
       "0  spotify:track:7qiZfU4dY1lWllzX7mPBI3   \n",
       "1  spotify:track:6rPO02ozF3bM7NnOV4h6s2   \n",
       "2  spotify:track:0KKkJNfGyhkQ5aFogxQAPU   \n",
       "3  spotify:track:6RUKPb4LETWmmr3iAEQktW   \n",
       "4  spotify:track:2XbfY2O2v3xwedUJ0J2kkr   \n",
       "\n",
       "                                          track_href  \\\n",
       "0  https://api.spotify.com/v1/tracks/7qiZfU4dY1lW...   \n",
       "1  https://api.spotify.com/v1/tracks/6rPO02ozF3bM...   \n",
       "2  https://api.spotify.com/v1/tracks/0KKkJNfGyhkQ...   \n",
       "3  https://api.spotify.com/v1/tracks/6RUKPb4LETWm...   \n",
       "4  https://api.spotify.com/v1/tracks/2XbfY2O2v3xw...   \n",
       "\n",
       "                                        analysis_url  duration_ms  \\\n",
       "0  https://api.spotify.com/v1/audio-analysis/7qiZ...       233713   \n",
       "1  https://api.spotify.com/v1/audio-analysis/6rPO...       228827   \n",
       "2  https://api.spotify.com/v1/audio-analysis/0KKk...       206693   \n",
       "3  https://api.spotify.com/v1/audio-analysis/6RUK...       247160   \n",
       "4  https://api.spotify.com/v1/audio-analysis/2Xbf...       234360   \n",
       "\n",
       "   time_signature  \n",
       "0               4  \n",
       "1               4  \n",
       "2               4  \n",
       "3               4  \n",
       "4               4  "
      ]
     },
     "execution_count": 2,
     "metadata": {},
     "output_type": "execute_result"
    }
   ],
   "source": [
    "print(df.shape)\n",
    "df.head()"
   ]
  },
  {
   "cell_type": "code",
   "execution_count": null,
   "metadata": {},
   "outputs": [],
   "source": [
    "from langchain.agents import create_pandas_dataframe_agent\n",
    "from langchain.chat_models import ChatOpenAI\n",
    "from langchain.agents.agent_types import AgentType"
   ]
  },
  {
   "cell_type": "code",
   "execution_count": null,
   "metadata": {},
   "outputs": [],
   "source": [
    "agent = create_pandas_dataframe_agent(\n",
    "    ChatOpenAI(temperature=0, model=\"gpt-4\"),\n",
    "    df,\n",
    "    verbose=True,\n",
    "    agent_type=AgentType.OPENAI_FUNCTIONS,\n",
    ")"
   ]
  },
  {
   "cell_type": "code",
   "execution_count": null,
   "metadata": {},
   "outputs": [],
   "source": [
    "agent.run(\"What is the average 'danceability' for 'Happy'?\")"
   ]
  },
  {
   "cell_type": "code",
   "execution_count": null,
   "metadata": {},
   "outputs": [],
   "source": [
    "agent.run(\"Which audio feature is most significant to 'Happy'?\") # appears to run inefficiently"
   ]
  },
  {
   "cell_type": "code",
   "execution_count": null,
   "metadata": {},
   "outputs": [],
   "source": [
    "agent.run(\"Which columns are most significant to 'Calm'?\")"
   ]
  },
  {
   "cell_type": "markdown",
   "metadata": {},
   "source": [
    "### Feature Averages"
   ]
  },
  {
   "cell_type": "code",
   "execution_count": 3,
   "metadata": {},
   "outputs": [
    {
     "data": {
      "text/html": [
       "<div>\n",
       "<style scoped>\n",
       "    .dataframe tbody tr th:only-of-type {\n",
       "        vertical-align: middle;\n",
       "    }\n",
       "\n",
       "    .dataframe tbody tr th {\n",
       "        vertical-align: top;\n",
       "    }\n",
       "\n",
       "    .dataframe thead th {\n",
       "        text-align: right;\n",
       "    }\n",
       "</style>\n",
       "<table border=\"1\" class=\"dataframe\">\n",
       "  <thead>\n",
       "    <tr style=\"text-align: right;\">\n",
       "      <th></th>\n",
       "      <th>mood</th>\n",
       "      <th>danceability</th>\n",
       "      <th>energy</th>\n",
       "      <th>key</th>\n",
       "      <th>loudness</th>\n",
       "      <th>mode</th>\n",
       "      <th>speechiness</th>\n",
       "      <th>acousticness</th>\n",
       "      <th>instrumentalness</th>\n",
       "      <th>liveness</th>\n",
       "      <th>valence</th>\n",
       "      <th>tempo</th>\n",
       "      <th>duration_ms</th>\n",
       "      <th>time_signature</th>\n",
       "    </tr>\n",
       "  </thead>\n",
       "  <tbody>\n",
       "    <tr>\n",
       "      <th>0</th>\n",
       "      <td>Calm</td>\n",
       "      <td>0.657419</td>\n",
       "      <td>0.619355</td>\n",
       "      <td>5.419355</td>\n",
       "      <td>-6.580194</td>\n",
       "      <td>0.645161</td>\n",
       "      <td>0.111655</td>\n",
       "      <td>0.203913</td>\n",
       "      <td>0.002963</td>\n",
       "      <td>0.139826</td>\n",
       "      <td>0.492258</td>\n",
       "      <td>116.254871</td>\n",
       "      <td>224841.000000</td>\n",
       "      <td>3.935484</td>\n",
       "    </tr>\n",
       "    <tr>\n",
       "      <th>1</th>\n",
       "      <td>Energetic</td>\n",
       "      <td>0.741475</td>\n",
       "      <td>0.658197</td>\n",
       "      <td>4.770492</td>\n",
       "      <td>-5.684377</td>\n",
       "      <td>0.540984</td>\n",
       "      <td>0.158539</td>\n",
       "      <td>0.131848</td>\n",
       "      <td>0.008285</td>\n",
       "      <td>0.152887</td>\n",
       "      <td>0.507066</td>\n",
       "      <td>129.706164</td>\n",
       "      <td>218860.065574</td>\n",
       "      <td>4.016393</td>\n",
       "    </tr>\n",
       "    <tr>\n",
       "      <th>2</th>\n",
       "      <td>Happy</td>\n",
       "      <td>0.687000</td>\n",
       "      <td>0.662833</td>\n",
       "      <td>4.714286</td>\n",
       "      <td>-5.735333</td>\n",
       "      <td>0.642857</td>\n",
       "      <td>0.115419</td>\n",
       "      <td>0.178238</td>\n",
       "      <td>0.000120</td>\n",
       "      <td>0.132433</td>\n",
       "      <td>0.573000</td>\n",
       "      <td>114.154405</td>\n",
       "      <td>216787.642857</td>\n",
       "      <td>4.023810</td>\n",
       "    </tr>\n",
       "    <tr>\n",
       "      <th>3</th>\n",
       "      <td>Sad</td>\n",
       "      <td>0.602444</td>\n",
       "      <td>0.570000</td>\n",
       "      <td>5.555556</td>\n",
       "      <td>-6.634389</td>\n",
       "      <td>0.500000</td>\n",
       "      <td>0.121628</td>\n",
       "      <td>0.218709</td>\n",
       "      <td>0.017561</td>\n",
       "      <td>0.152161</td>\n",
       "      <td>0.385889</td>\n",
       "      <td>115.126778</td>\n",
       "      <td>229495.722222</td>\n",
       "      <td>3.888889</td>\n",
       "    </tr>\n",
       "  </tbody>\n",
       "</table>\n",
       "</div>"
      ],
      "text/plain": [
       "        mood  danceability    energy       key  loudness      mode  \\\n",
       "0       Calm      0.657419  0.619355  5.419355 -6.580194  0.645161   \n",
       "1  Energetic      0.741475  0.658197  4.770492 -5.684377  0.540984   \n",
       "2      Happy      0.687000  0.662833  4.714286 -5.735333  0.642857   \n",
       "3        Sad      0.602444  0.570000  5.555556 -6.634389  0.500000   \n",
       "\n",
       "   speechiness  acousticness  instrumentalness  liveness   valence  \\\n",
       "0     0.111655      0.203913          0.002963  0.139826  0.492258   \n",
       "1     0.158539      0.131848          0.008285  0.152887  0.507066   \n",
       "2     0.115419      0.178238          0.000120  0.132433  0.573000   \n",
       "3     0.121628      0.218709          0.017561  0.152161  0.385889   \n",
       "\n",
       "        tempo    duration_ms  time_signature  \n",
       "0  116.254871  224841.000000        3.935484  \n",
       "1  129.706164  218860.065574        4.016393  \n",
       "2  114.154405  216787.642857        4.023810  \n",
       "3  115.126778  229495.722222        3.888889  "
      ]
     },
     "execution_count": 3,
     "metadata": {},
     "output_type": "execute_result"
    }
   ],
   "source": [
    "numeric_df = df.select_dtypes(include=['float64', 'int64'])\n",
    "numeric_df['mood'] = df['mood']\n",
    "average_moods = numeric_df.groupby('mood').mean()\n",
    "average_moods.reset_index(inplace=True)\n",
    "average_moods"
   ]
  },
  {
   "cell_type": "markdown",
   "metadata": {},
   "source": [
    "### Correlation Analysis\n",
    "\n",
    "Moods are categorical, so we'll convert them to binary variables for this analysis. \n",
    "\n",
    "We'll assign 1 to the mood of interest and 0 to the others."
   ]
  },
  {
   "cell_type": "code",
   "execution_count": 11,
   "metadata": {},
   "outputs": [
    {
     "data": {
      "text/plain": [
       "is_calm             1.000000\n",
       "danceability       -0.117139\n",
       "energy             -0.075532\n",
       "acousticness        0.097560\n",
       "instrumentalness   -0.040902\n",
       "valence            -0.036719\n",
       "tempo              -0.080075\n",
       "Name: is_calm, dtype: float64"
      ]
     },
     "execution_count": 11,
     "metadata": {},
     "output_type": "execute_result"
    }
   ],
   "source": [
    "mood = \"Calm\"\n",
    "\n",
    "df['is_calm'] = df['mood'].apply(lambda x: 1 if x == mood else 0)\n",
    "\n",
    "# Calculate the correlation of 'is_calm' with each audio feature\n",
    "correlations = df[['is_calm', 'danceability', 'energy', 'acousticness', 'instrumentalness', 'valence', 'tempo']].corr()\n",
    "\n",
    "# Print the correlation of 'is_calm' with each audio feature\n",
    "correlations['is_calm']"
   ]
  },
  {
   "cell_type": "markdown",
   "metadata": {},
   "source": [
    "### Analysis of Variance (ANOVA)\n",
    "\n",
    "Shows if the differences in means are statistically significant.\n",
    "\n",
    "ANOVA assumes data is normally distributed & variances are equal across groups."
   ]
  },
  {
   "cell_type": "markdown",
   "metadata": {},
   "source": [
    "**Shapiro-Wilk Test**\n",
    "\n",
    "If p-value > 0.05, we assume normality. This would need to be done for each mood."
   ]
  },
  {
   "cell_type": "code",
   "execution_count": 38,
   "metadata": {},
   "outputs": [],
   "source": [
    "feature = \"danceability\""
   ]
  },
  {
   "cell_type": "code",
   "execution_count": 37,
   "metadata": {},
   "outputs": [
    {
     "name": "stdout",
     "output_type": "stream",
     "text": [
      "Statistics=0.942, p=0.035 Happy\n",
      "Statistics=0.971, p=0.825 Sad\n",
      "Statistics=0.918, p=0.001 Energetic\n",
      "Statistics=0.959, p=0.282 Calm\n"
     ]
    }
   ],
   "source": [
    "from scipy.stats import shapiro\n",
    "\n",
    "\n",
    "for mood in (df[\"mood\"]).unique():\n",
    "    stat, p = shapiro(df[df['mood'] == mood][feature])\n",
    "    print(f'Statistics=%.3f, p=%.3f' % (stat, p) ,mood)"
   ]
  },
  {
   "cell_type": "markdown",
   "metadata": {},
   "source": [
    "**Levene's Test**\n",
    "\n",
    "If p-value > 0.05, we assume equal variances."
   ]
  },
  {
   "cell_type": "code",
   "execution_count": 39,
   "metadata": {},
   "outputs": [
    {
     "name": "stdout",
     "output_type": "stream",
     "text": [
      "Statistics=0.274, p=0.844\n"
     ]
    }
   ],
   "source": [
    "from scipy.stats import levene\n",
    "\n",
    "\n",
    "# Test if variances are equal across groups\n",
    "stat, p = levene(df[df['mood'] == 'Happy'][feature], \n",
    "                 df[df['mood'] == 'Sad'][feature], \n",
    "                 df[df['mood'] == 'Energetic'][feature], \n",
    "                 df[df['mood'] == 'Calm'][feature])\n",
    "print('Statistics=%.3f, p=%.3f' % (stat, p))"
   ]
  },
  {
   "cell_type": "markdown",
   "metadata": {},
   "source": [
    "**ANOVA Test**"
   ]
  },
  {
   "cell_type": "code",
   "execution_count": 40,
   "metadata": {},
   "outputs": [
    {
     "name": "stdout",
     "output_type": "stream",
     "text": [
      "F-value:  5.075466686404077\n",
      "P-value:  0.0022535471514838253\n"
     ]
    }
   ],
   "source": [
    "import scipy.stats as stats\n",
    "\n",
    "\n",
    "# Let's say we want to test if the 'valence' is significantly different across moods\n",
    "fvalue, pvalue = stats.f_oneway(df[df['mood'] == 'Happy'][feature], \n",
    "                                df[df['mood'] == 'Sad'][feature], \n",
    "                                df[df['mood'] == 'Energetic'][feature], \n",
    "                                df[df['mood'] == 'Calm'][feature])\n",
    "\n",
    "\n",
    "print(\"F-value: \", fvalue)\n",
    "print(\"P-value: \", pvalue)"
   ]
  },
  {
   "cell_type": "markdown",
   "metadata": {},
   "source": [
    "The F-value is a measure of the ratio of between-group variance to within-group variance. A larger F-value suggests that there is more variation between the groups than within the groups, which could indicate a significant difference between the groups.\n",
    "\n",
    "The p-value is the probability of obtaining the observed data (or data more extreme) if the null hypothesis is true. In this case, the null hypothesis is that there is no difference in 'feature' across the different moods. A p-value less than 0.05 is commonly interpreted as evidence to reject the null hypothesis in favor of the alternative hypothesis, which is that there is a difference in 'feature' across the moods."
   ]
  },
  {
   "cell_type": "markdown",
   "metadata": {},
   "source": [
    "### Graphs\n",
    "\n",
    "Helpful for defining (arbitrary) min/max thresholds."
   ]
  },
  {
   "cell_type": "code",
   "execution_count": 41,
   "metadata": {},
   "outputs": [
    {
     "data": {
      "image/png": "[encoded data removed]",
      "text/plain": [
       "<Figure size 640x480 with 1 Axes>"
      ]
     },
     "metadata": {},
     "output_type": "display_data"
    }
   ],
   "source": [
    "import matplotlib.pyplot as plt\n",
    "import numpy as np\n",
    "\n",
    "\n",
    "mood = \"Happy\"\n",
    "feature = \"danceability\"\n",
    "\n",
    "# Filter the dataframe to the right mood\n",
    "happy_df = df[df[\"mood\"] == mood]\n",
    "\n",
    "# Calculate the range of values for feature\n",
    "min_value = happy_df[feature].min()\n",
    "max_value = happy_df[feature].max()\n",
    "bin_range = np.linspace(min_value, max_value, num=20)\n",
    "\n",
    "# Plot a histogram for the feature column in the mood\n",
    "plt.hist(happy_df[feature], bins=bin_range, edgecolor='black')\n",
    "plt.xlabel(feature)\n",
    "plt.ylabel('Frequency')\n",
    "plt.title(f'{feature} Distribution for {mood} Mood')\n",
    "plt.show()"
   ]
  },
  {
   "cell_type": "markdown",
   "metadata": {},
   "source": [
    "### Mood Creation\n",
    "\n",
    "Let's keep it simple to start | 1-2 audio features"
   ]
  },
  {
   "cell_type": "code",
   "execution_count": 1,
   "metadata": {},
   "outputs": [],
   "source": [
    "# Happy\n",
    "max_instrumentalness = 0.001\n",
    "min_valence = 0.5\n",
    "\n",
    "# Sad\n",
    "max_danceability = 0.75\n",
    "max_valence = 0.5\n",
    "\n",
    "# Energetic\n",
    "min_tempo = 120\n",
    "min_danceability = 0.65\n",
    "\n",
    "# Calm\n",
    "max_energy = 0.75\n",
    "max_tempo = 140 \n"
   ]
  },
  {
   "cell_type": "code",
   "execution_count": null,
   "metadata": {},
   "outputs": [],
   "source": []
  }
 ],
 "metadata": {
  "kernelspec": {
   "display_name": "venv",
   "language": "python",
   "name": "venv"
  },
  "language_info": {
   "codemirror_mode": {
    "name": "ipython",
    "version": 3
   },
   "file_extension": ".py",
   "mimetype": "text/x-python",
   "name": "python",
   "nbconvert_exporter": "python",
   "pygments_lexer": "ipython3",
   "version": "3.11.3"
  },
  "orig_nbformat": 4
 },
 "nbformat": 4,
 "nbformat_minor": 2
}
