{
 "cells": [
  {
   "cell_type": "code",
   "execution_count": 1,
   "metadata": {},
   "outputs": [
    {
     "name": "stdout",
     "output_type": "stream",
     "text": [
      "                    song_name   mood  danceability  energy  key  loudness  \\\n",
      "0                Shape of You  Happy         0.825   0.652    1    -3.183   \n",
      "1           Despacito (Remix)  Happy         0.653   0.816    2    -4.353   \n",
      "2          That's What I Like  Happy         0.853   0.560    1    -4.961   \n",
      "3    Something Just Like This  Happy         0.617   0.635   11    -6.769   \n",
      "4                      Closer  Happy         0.711   0.753    4    -6.461   \n",
      "..                        ...    ...           ...     ...  ...       ...   \n",
      "147                    Malibu   Calm         0.831   0.719   10    -6.836   \n",
      "148                      Down   Calm         0.962   0.619   10    -5.562   \n",
      "149          Treat You Better   Calm         0.444   0.819   10    -4.078   \n",
      "150                  Do Re Mi   Calm         0.745   0.593    8    -6.350   \n",
      "151               The Fighter   Calm         0.681   0.845   11    -5.147   \n",
      "\n",
      "     mode  speechiness  acousticness  instrumentalness  liveness  valence  \\\n",
      "0       0       0.0802       0.58100          0.000000    0.0931    0.931   \n",
      "1       1       0.1670       0.22800          0.000000    0.0967    0.816   \n",
      "2       1       0.0406       0.01300          0.000000    0.0944    0.860   \n",
      "3       0       0.0317       0.04980          0.000014    0.1640    0.446   \n",
      "4       0       0.0766       0.02800          0.000030    0.1520    0.588   \n",
      "..    ...          ...           ...               ...       ...      ...   \n",
      "147     1       0.2350       0.51400          0.000000    0.0675    0.859   \n",
      "148     0       0.4050       0.03540          0.000000    0.0830    0.154   \n",
      "149     0       0.3410       0.10600          0.000000    0.1070    0.747   \n",
      "150     1       0.0524       0.00522          0.000005    0.1230    0.170   \n",
      "151     0       0.0525       0.03040          0.000000    0.1970    0.761   \n",
      "\n",
      "       tempo            type                      id  \\\n",
      "0     95.977  audio_features  7qiZfU4dY1lWllzX7mPBI3   \n",
      "1    178.085  audio_features  6rPO02ozF3bM7NnOV4h6s2   \n",
      "2    134.066  audio_features  0KKkJNfGyhkQ5aFogxQAPU   \n",
      "3    103.019  audio_features  6RUKPb4LETWmmr3iAEQktW   \n",
      "4    126.051  audio_features  2XbfY2O2v3xwedUJ0J2kkr   \n",
      "..       ...             ...                     ...   \n",
      "147  155.038  audio_features  3v1zVVdzNVNt7vmI9VG2gq   \n",
      "148  127.958  audio_features  5m0yZ33oOy0yYBtdTXuxQe   \n",
      "149   82.695  audio_features  3QGsuHI8jO1Rx4JWLUh9jd   \n",
      "150  111.001  audio_features  6Se3x9ANMLv0dCDsjGmEjh   \n",
      "151  132.023  audio_features  5OUSPcqhYTOzpbXzoEvKim   \n",
      "\n",
      "                                      uri  \\\n",
      "0    spotify:track:7qiZfU4dY1lWllzX7mPBI3   \n",
      "1    spotify:track:6rPO02ozF3bM7NnOV4h6s2   \n",
      "2    spotify:track:0KKkJNfGyhkQ5aFogxQAPU   \n",
      "3    spotify:track:6RUKPb4LETWmmr3iAEQktW   \n",
      "4    spotify:track:2XbfY2O2v3xwedUJ0J2kkr   \n",
      "..                                    ...   \n",
      "147  spotify:track:3v1zVVdzNVNt7vmI9VG2gq   \n",
      "148  spotify:track:5m0yZ33oOy0yYBtdTXuxQe   \n",
      "149  spotify:track:3QGsuHI8jO1Rx4JWLUh9jd   \n",
      "150  spotify:track:6Se3x9ANMLv0dCDsjGmEjh   \n",
      "151  spotify:track:5OUSPcqhYTOzpbXzoEvKim   \n",
      "\n",
      "                                            track_href  \\\n",
      "0    https://api.spotify.com/v1/tracks/7qiZfU4dY1lW...   \n",
      "1    https://api.spotify.com/v1/tracks/6rPO02ozF3bM...   \n",
      "2    https://api.spotify.com/v1/tracks/0KKkJNfGyhkQ...   \n",
      "3    https://api.spotify.com/v1/tracks/6RUKPb4LETWm...   \n",
      "4    https://api.spotify.com/v1/tracks/2XbfY2O2v3xw...   \n",
      "..                                                 ...   \n",
      "147  https://api.spotify.com/v1/tracks/3v1zVVdzNVNt...   \n",
      "148  https://api.spotify.com/v1/tracks/5m0yZ33oOy0y...   \n",
      "149  https://api.spotify.com/v1/tracks/3QGsuHI8jO1R...   \n",
      "150  https://api.spotify.com/v1/tracks/6Se3x9ANMLv0...   \n",
      "151  https://api.spotify.com/v1/tracks/5OUSPcqhYTOz...   \n",
      "\n",
      "                                          analysis_url  duration_ms  \\\n",
      "0    https://api.spotify.com/v1/audio-analysis/7qiZ...       233713   \n",
      "1    https://api.spotify.com/v1/audio-analysis/6rPO...       228827   \n",
      "2    https://api.spotify.com/v1/audio-analysis/0KKk...       206693   \n",
      "3    https://api.spotify.com/v1/audio-analysis/6RUK...       247160   \n",
      "4    https://api.spotify.com/v1/audio-analysis/2Xbf...       234360   \n",
      "..                                                 ...          ...   \n",
      "147  https://api.spotify.com/v1/audio-analysis/3v1z...       248652   \n",
      "148  https://api.spotify.com/v1/audio-analysis/5m0y...       144652   \n",
      "149  https://api.spotify.com/v1/audio-analysis/3QGs...       187973   \n",
      "150  https://api.spotify.com/v1/audio-analysis/6Se3...       212027   \n",
      "151  https://api.spotify.com/v1/audio-analysis/5OUS...       184040   \n",
      "\n",
      "     time_signature  \n",
      "0                 4  \n",
      "1                 4  \n",
      "2                 4  \n",
      "3                 4  \n",
      "4                 4  \n",
      "..              ...  \n",
      "147               4  \n",
      "148               4  \n",
      "149               4  \n",
      "150               3  \n",
      "151               4  \n",
      "\n",
      "[152 rows x 20 columns]\n"
     ]
    }
   ],
   "source": [
    "import pandas as pd\n",
    "from recs_dev import df"
   ]
  },
  {
   "cell_type": "markdown",
   "metadata": {},
   "source": [
    "### Pandas Dataframe Agent\n",
    "\n",
    "https://python.langchain.com/docs/integrations/toolkits/pandas"
   ]
  },
  {
   "cell_type": "code",
   "execution_count": null,
   "metadata": {},
   "outputs": [],
   "source": [
    "print(df.shape)\n",
    "df.head()"
   ]
  },
  {
   "cell_type": "code",
   "execution_count": null,
   "metadata": {},
   "outputs": [],
   "source": [
    "from langchain.agents import create_pandas_dataframe_agent\n",
    "from langchain.chat_models import ChatOpenAI\n",
    "from langchain.agents.agent_types import AgentType"
   ]
  },
  {
   "cell_type": "code",
   "execution_count": null,
   "metadata": {},
   "outputs": [],
   "source": [
    "agent = create_pandas_dataframe_agent(\n",
    "    ChatOpenAI(temperature=0, model=\"gpt-4\"),\n",
    "    df,\n",
    "    verbose=True,\n",
    "    agent_type=AgentType.OPENAI_FUNCTIONS,\n",
    ")"
   ]
  },
  {
   "cell_type": "code",
   "execution_count": null,
   "metadata": {},
   "outputs": [],
   "source": [
    "agent.run(\"What is the average 'danceability' for 'Happy'?\")"
   ]
  },
  {
   "cell_type": "code",
   "execution_count": null,
   "metadata": {},
   "outputs": [],
   "source": [
    "agent.run(\"Which audio feature is most significant to 'Happy'?\") # appears to run inefficiently"
   ]
  },
  {
   "cell_type": "code",
   "execution_count": null,
   "metadata": {},
   "outputs": [],
   "source": [
    "agent.run(\"Which columns are most significant to 'Calm'?\")"
   ]
  },
  {
   "cell_type": "markdown",
   "metadata": {},
   "source": [
    "### Feature Averages"
   ]
  },
  {
   "cell_type": "code",
   "execution_count": 2,
   "metadata": {},
   "outputs": [
    {
     "data": {
      "text/html": [
       "<div>\n",
       "<style scoped>\n",
       "    .dataframe tbody tr th:only-of-type {\n",
       "        vertical-align: middle;\n",
       "    }\n",
       "\n",
       "    .dataframe tbody tr th {\n",
       "        vertical-align: top;\n",
       "    }\n",
       "\n",
       "    .dataframe thead th {\n",
       "        text-align: right;\n",
       "    }\n",
       "</style>\n",
       "<table border=\"1\" class=\"dataframe\">\n",
       "  <thead>\n",
       "    <tr style=\"text-align: right;\">\n",
       "      <th></th>\n",
       "      <th>mood</th>\n",
       "      <th>danceability</th>\n",
       "      <th>energy</th>\n",
       "      <th>key</th>\n",
       "      <th>loudness</th>\n",
       "      <th>mode</th>\n",
       "      <th>speechiness</th>\n",
       "      <th>acousticness</th>\n",
       "      <th>instrumentalness</th>\n",
       "      <th>liveness</th>\n",
       "      <th>valence</th>\n",
       "      <th>tempo</th>\n",
       "      <th>duration_ms</th>\n",
       "      <th>time_signature</th>\n",
       "    </tr>\n",
       "  </thead>\n",
       "  <tbody>\n",
       "    <tr>\n",
       "      <th>0</th>\n",
       "      <td>Calm</td>\n",
       "      <td>0.656645</td>\n",
       "      <td>0.617968</td>\n",
       "      <td>5.483871</td>\n",
       "      <td>-6.566935</td>\n",
       "      <td>0.612903</td>\n",
       "      <td>0.117171</td>\n",
       "      <td>0.192248</td>\n",
       "      <td>0.002959</td>\n",
       "      <td>0.131584</td>\n",
       "      <td>0.490419</td>\n",
       "      <td>117.556065</td>\n",
       "      <td>224035.032258</td>\n",
       "      <td>3.935484</td>\n",
       "    </tr>\n",
       "    <tr>\n",
       "      <th>1</th>\n",
       "      <td>Energetic</td>\n",
       "      <td>0.751902</td>\n",
       "      <td>0.649443</td>\n",
       "      <td>4.901639</td>\n",
       "      <td>-5.698049</td>\n",
       "      <td>0.573770</td>\n",
       "      <td>0.160310</td>\n",
       "      <td>0.132689</td>\n",
       "      <td>0.003270</td>\n",
       "      <td>0.151093</td>\n",
       "      <td>0.514098</td>\n",
       "      <td>129.139262</td>\n",
       "      <td>221331.065574</td>\n",
       "      <td>4.016393</td>\n",
       "    </tr>\n",
       "    <tr>\n",
       "      <th>2</th>\n",
       "      <td>Happy</td>\n",
       "      <td>0.689595</td>\n",
       "      <td>0.657048</td>\n",
       "      <td>4.976190</td>\n",
       "      <td>-5.753810</td>\n",
       "      <td>0.666667</td>\n",
       "      <td>0.117595</td>\n",
       "      <td>0.176064</td>\n",
       "      <td>0.000361</td>\n",
       "      <td>0.136352</td>\n",
       "      <td>0.577214</td>\n",
       "      <td>114.095524</td>\n",
       "      <td>217561.547619</td>\n",
       "      <td>4.023810</td>\n",
       "    </tr>\n",
       "    <tr>\n",
       "      <th>3</th>\n",
       "      <td>Sad</td>\n",
       "      <td>0.608056</td>\n",
       "      <td>0.574667</td>\n",
       "      <td>5.777778</td>\n",
       "      <td>-6.439667</td>\n",
       "      <td>0.500000</td>\n",
       "      <td>0.138333</td>\n",
       "      <td>0.230820</td>\n",
       "      <td>0.000005</td>\n",
       "      <td>0.148961</td>\n",
       "      <td>0.390556</td>\n",
       "      <td>115.086056</td>\n",
       "      <td>236491.944444</td>\n",
       "      <td>3.833333</td>\n",
       "    </tr>\n",
       "  </tbody>\n",
       "</table>\n",
       "</div>"
      ],
      "text/plain": [
       "        mood  danceability    energy       key  loudness      mode  \\\n",
       "0       Calm      0.656645  0.617968  5.483871 -6.566935  0.612903   \n",
       "1  Energetic      0.751902  0.649443  4.901639 -5.698049  0.573770   \n",
       "2      Happy      0.689595  0.657048  4.976190 -5.753810  0.666667   \n",
       "3        Sad      0.608056  0.574667  5.777778 -6.439667  0.500000   \n",
       "\n",
       "   speechiness  acousticness  instrumentalness  liveness   valence  \\\n",
       "0     0.117171      0.192248          0.002959  0.131584  0.490419   \n",
       "1     0.160310      0.132689          0.003270  0.151093  0.514098   \n",
       "2     0.117595      0.176064          0.000361  0.136352  0.577214   \n",
       "3     0.138333      0.230820          0.000005  0.148961  0.390556   \n",
       "\n",
       "        tempo    duration_ms  time_signature  \n",
       "0  117.556065  224035.032258        3.935484  \n",
       "1  129.139262  221331.065574        4.016393  \n",
       "2  114.095524  217561.547619        4.023810  \n",
       "3  115.086056  236491.944444        3.833333  "
      ]
     },
     "execution_count": 2,
     "metadata": {},
     "output_type": "execute_result"
    }
   ],
   "source": [
    "numeric_df = df.select_dtypes(include=['float64', 'int64'])\n",
    "numeric_df['mood'] = df['mood']\n",
    "average_moods = numeric_df.groupby('mood').mean()\n",
    "average_moods.reset_index(inplace=True)\n",
    "average_moods"
   ]
  },
  {
   "cell_type": "markdown",
   "metadata": {},
   "source": [
    "### Correlation Analysis\n",
    "\n",
    "Moods are categorical, so we'll convert them to binary variables for this analysis. \n",
    "\n",
    "We'll assign 1 to the mood of interest and 0 to the others."
   ]
  },
  {
   "cell_type": "code",
   "execution_count": null,
   "metadata": {},
   "outputs": [],
   "source": [
    "mood = \"Calm\"\n",
    "\n",
    "df['is_calm'] = df['mood'].apply(lambda x: 1 if x == mood else 0)\n",
    "\n",
    "# Calculate the correlation of 'is_calm' with each audio feature\n",
    "correlations = df[['is_calm', 'danceability', 'energy', 'acousticness', 'instrumentalness', 'valence', 'tempo']].corr()\n",
    "\n",
    "# Print the correlation of 'is_calm' with each audio feature\n",
    "correlations['is_calm']"
   ]
  },
  {
   "cell_type": "markdown",
   "metadata": {},
   "source": [
    "### Analysis of Variance (ANOVA)\n",
    "\n",
    "Shows if the differences in means are statistically significant.\n",
    "\n",
    "ANOVA assumes data is normally distributed & variances are equal across groups."
   ]
  },
  {
   "cell_type": "markdown",
   "metadata": {},
   "source": [
    "**Shapiro-Wilk Test**\n",
    "\n",
    "If p-value > 0.05, we assume normality. This would need to be done for each mood."
   ]
  },
  {
   "cell_type": "code",
   "execution_count": null,
   "metadata": {},
   "outputs": [],
   "source": [
    "feature = \"danceability\""
   ]
  },
  {
   "cell_type": "code",
   "execution_count": null,
   "metadata": {},
   "outputs": [],
   "source": [
    "from scipy.stats import shapiro\n",
    "\n",
    "\n",
    "for mood in (df[\"mood\"]).unique():\n",
    "    stat, p = shapiro(df[df['mood'] == mood][feature])\n",
    "    print(f'Statistics=%.3f, p=%.3f' % (stat, p) ,mood)"
   ]
  },
  {
   "cell_type": "markdown",
   "metadata": {},
   "source": [
    "**Levene's Test**\n",
    "\n",
    "If p-value > 0.05, we assume equal variances."
   ]
  },
  {
   "cell_type": "code",
   "execution_count": null,
   "metadata": {},
   "outputs": [],
   "source": [
    "from scipy.stats import levene\n",
    "\n",
    "\n",
    "# Test if variances are equal across groups\n",
    "stat, p = levene(df[df['mood'] == 'Happy'][feature], \n",
    "                 df[df['mood'] == 'Sad'][feature], \n",
    "                 df[df['mood'] == 'Energetic'][feature], \n",
    "                 df[df['mood'] == 'Calm'][feature])\n",
    "print('Statistics=%.3f, p=%.3f' % (stat, p))"
   ]
  },
  {
   "cell_type": "markdown",
   "metadata": {},
   "source": [
    "**ANOVA Test**"
   ]
  },
  {
   "cell_type": "code",
   "execution_count": null,
   "metadata": {},
   "outputs": [],
   "source": [
    "import scipy.stats as stats\n",
    "\n",
    "\n",
    "# Let's say we want to test if the 'valence' is significantly different across moods\n",
    "fvalue, pvalue = stats.f_oneway(df[df['mood'] == 'Happy'][feature], \n",
    "                                df[df['mood'] == 'Sad'][feature], \n",
    "                                df[df['mood'] == 'Energetic'][feature], \n",
    "                                df[df['mood'] == 'Calm'][feature])\n",
    "\n",
    "\n",
    "print(\"F-value: \", fvalue)\n",
    "print(\"P-value: \", pvalue)"
   ]
  },
  {
   "cell_type": "markdown",
   "metadata": {},
   "source": [
    "The F-value is a measure of the ratio of between-group variance to within-group variance. A larger F-value suggests that there is more variation between the groups than within the groups, which could indicate a significant difference between the groups.\n",
    "\n",
    "The p-value is the probability of obtaining the observed data (or data more extreme) if the null hypothesis is true. In this case, the null hypothesis is that there is no difference in 'feature' across the different moods. A p-value less than 0.05 is commonly interpreted as evidence to reject the null hypothesis in favor of the alternative hypothesis, which is that there is a difference in 'feature' across the moods."
   ]
  },
  {
   "cell_type": "markdown",
   "metadata": {},
   "source": [
    "### Graphs\n",
    "\n",
    "Helpful for defining (arbitrary) min/max thresholds."
   ]
  },
  {
   "cell_type": "code",
   "execution_count": 3,
   "metadata": {},
   "outputs": [
    {
     "data": {
      "image/png": "[encoded data removed]",
      "text/plain": [
       "<Figure size 640x480 with 1 Axes>"
      ]
     },
     "metadata": {},
     "output_type": "display_data"
    }
   ],
   "source": [
    "import matplotlib.pyplot as plt\n",
    "import numpy as np\n",
    "\n",
    "\n",
    "mood = \"Happy\"\n",
    "feature = \"danceability\"\n",
    "\n",
    "# Filter the dataframe to the right mood\n",
    "happy_df = df[df[\"mood\"] == mood]\n",
    "\n",
    "# Calculate the range of values for feature\n",
    "min_value = happy_df[feature].min()\n",
    "max_value = happy_df[feature].max()\n",
    "bin_range = np.linspace(min_value, max_value, num=20)\n",
    "\n",
    "# Plot a histogram for the feature column in the mood\n",
    "plt.hist(happy_df[feature], bins=bin_range, edgecolor='black')\n",
    "plt.xlabel(feature)\n",
    "plt.ylabel('Frequency')\n",
    "plt.title(f'{feature} Distribution for {mood} Mood')\n",
    "plt.show()"
   ]
  },
  {
   "cell_type": "markdown",
   "metadata": {},
   "source": [
    "### Mood Creation\n",
    "\n",
    "Let's keep it simple to start | 1-2 audio features"
   ]
  },
  {
   "cell_type": "code",
   "execution_count": 4,
   "metadata": {},
   "outputs": [
    {
     "data": {
      "text/html": [
       "<div>\n",
       "<style scoped>\n",
       "    .dataframe tbody tr th:only-of-type {\n",
       "        vertical-align: middle;\n",
       "    }\n",
       "\n",
       "    .dataframe tbody tr th {\n",
       "        vertical-align: top;\n",
       "    }\n",
       "\n",
       "    .dataframe thead th {\n",
       "        text-align: right;\n",
       "    }\n",
       "</style>\n",
       "<table border=\"1\" class=\"dataframe\">\n",
       "  <thead>\n",
       "    <tr style=\"text-align: right;\">\n",
       "      <th></th>\n",
       "      <th>mood</th>\n",
       "      <th>danceability</th>\n",
       "      <th>energy</th>\n",
       "      <th>key</th>\n",
       "      <th>loudness</th>\n",
       "      <th>mode</th>\n",
       "      <th>speechiness</th>\n",
       "      <th>acousticness</th>\n",
       "      <th>instrumentalness</th>\n",
       "      <th>liveness</th>\n",
       "      <th>valence</th>\n",
       "      <th>tempo</th>\n",
       "      <th>duration_ms</th>\n",
       "      <th>time_signature</th>\n",
       "    </tr>\n",
       "  </thead>\n",
       "  <tbody>\n",
       "    <tr>\n",
       "      <th>0</th>\n",
       "      <td>Calm</td>\n",
       "      <td>0.656645</td>\n",
       "      <td>0.617968</td>\n",
       "      <td>5.483871</td>\n",
       "      <td>-6.566935</td>\n",
       "      <td>0.612903</td>\n",
       "      <td>0.117171</td>\n",
       "      <td>0.192248</td>\n",
       "      <td>0.002959</td>\n",
       "      <td>0.131584</td>\n",
       "      <td>0.490419</td>\n",
       "      <td>117.556065</td>\n",
       "      <td>224035.032258</td>\n",
       "      <td>3.935484</td>\n",
       "    </tr>\n",
       "    <tr>\n",
       "      <th>1</th>\n",
       "      <td>Energetic</td>\n",
       "      <td>0.751902</td>\n",
       "      <td>0.649443</td>\n",
       "      <td>4.901639</td>\n",
       "      <td>-5.698049</td>\n",
       "      <td>0.573770</td>\n",
       "      <td>0.160310</td>\n",
       "      <td>0.132689</td>\n",
       "      <td>0.003270</td>\n",
       "      <td>0.151093</td>\n",
       "      <td>0.514098</td>\n",
       "      <td>129.139262</td>\n",
       "      <td>221331.065574</td>\n",
       "      <td>4.016393</td>\n",
       "    </tr>\n",
       "    <tr>\n",
       "      <th>2</th>\n",
       "      <td>Happy</td>\n",
       "      <td>0.689595</td>\n",
       "      <td>0.657048</td>\n",
       "      <td>4.976190</td>\n",
       "      <td>-5.753810</td>\n",
       "      <td>0.666667</td>\n",
       "      <td>0.117595</td>\n",
       "      <td>0.176064</td>\n",
       "      <td>0.000361</td>\n",
       "      <td>0.136352</td>\n",
       "      <td>0.577214</td>\n",
       "      <td>114.095524</td>\n",
       "      <td>217561.547619</td>\n",
       "      <td>4.023810</td>\n",
       "    </tr>\n",
       "    <tr>\n",
       "      <th>3</th>\n",
       "      <td>Sad</td>\n",
       "      <td>0.608056</td>\n",
       "      <td>0.574667</td>\n",
       "      <td>5.777778</td>\n",
       "      <td>-6.439667</td>\n",
       "      <td>0.500000</td>\n",
       "      <td>0.138333</td>\n",
       "      <td>0.230820</td>\n",
       "      <td>0.000005</td>\n",
       "      <td>0.148961</td>\n",
       "      <td>0.390556</td>\n",
       "      <td>115.086056</td>\n",
       "      <td>236491.944444</td>\n",
       "      <td>3.833333</td>\n",
       "    </tr>\n",
       "  </tbody>\n",
       "</table>\n",
       "</div>"
      ],
      "text/plain": [
       "        mood  danceability    energy       key  loudness      mode  \\\n",
       "0       Calm      0.656645  0.617968  5.483871 -6.566935  0.612903   \n",
       "1  Energetic      0.751902  0.649443  4.901639 -5.698049  0.573770   \n",
       "2      Happy      0.689595  0.657048  4.976190 -5.753810  0.666667   \n",
       "3        Sad      0.608056  0.574667  5.777778 -6.439667  0.500000   \n",
       "\n",
       "   speechiness  acousticness  instrumentalness  liveness   valence  \\\n",
       "0     0.117171      0.192248          0.002959  0.131584  0.490419   \n",
       "1     0.160310      0.132689          0.003270  0.151093  0.514098   \n",
       "2     0.117595      0.176064          0.000361  0.136352  0.577214   \n",
       "3     0.138333      0.230820          0.000005  0.148961  0.390556   \n",
       "\n",
       "        tempo    duration_ms  time_signature  \n",
       "0  117.556065  224035.032258        3.935484  \n",
       "1  129.139262  221331.065574        4.016393  \n",
       "2  114.095524  217561.547619        4.023810  \n",
       "3  115.086056  236491.944444        3.833333  "
      ]
     },
     "execution_count": 4,
     "metadata": {},
     "output_type": "execute_result"
    }
   ],
   "source": [
    "average_moods"
   ]
  },
  {
   "cell_type": "code",
   "execution_count": null,
   "metadata": {},
   "outputs": [],
   "source": [
    "# version 2\n",
    "\n",
    "MOOD_SETTINGS = {\n",
    "    \"happy\": {\"max_instrumentalness\": 0.001, \"min_valence\": 0.6},\n",
    "    \"sad\": {\"max_danceability\": 0.65, \"max_valence\": 0.4},\n",
    "    \"energetic\": {\"min_tempo\": 130, \"min_danceability\": 0.75},\n",
    "    \"calm\": {\"max_energy\": 0.65, \"max_tempo\": 130}\n",
    "}"
   ]
  },
  {
   "cell_type": "code",
   "execution_count": null,
   "metadata": {},
   "outputs": [],
   "source": [
    "# version 1\n",
    "\n",
    "# MOOD_SETTINGS = {\n",
    "#     \"happy\": {\"max_instrumentalness\": 0.001, \"min_valence\": 0.5},\n",
    "#     \"sad\": {\"max_danceability\": 0.75, \"max_valence\": 0.5},\n",
    "#     \"energetic\": {\"min_tempo\": 120, \"min_danceability\": 0.65},\n",
    "#     \"calm\": {\"max_energy\": 0.75, \"max_tempo\": 140}\n",
    "# }"
   ]
  }
 ],
 "metadata": {
  "kernelspec": {
   "display_name": "venv",
   "language": "python",
   "name": "venv"
  },
  "language_info": {
   "codemirror_mode": {
    "name": "ipython",
    "version": 3
   },
   "file_extension": ".py",
   "mimetype": "text/x-python",
   "name": "python",
   "nbconvert_exporter": "python",
   "pygments_lexer": "ipython3",
   "version": "3.11.3"
  },
  "orig_nbformat": 4
 },
 "nbformat": 4,
 "nbformat_minor": 2
}
